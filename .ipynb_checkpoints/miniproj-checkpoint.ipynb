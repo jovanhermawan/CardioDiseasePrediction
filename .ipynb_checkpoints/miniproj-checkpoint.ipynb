{
 "cells": [
  {
   "cell_type": "code",
   "execution_count": 1,
   "id": "healthy-duncan",
   "metadata": {},
   "outputs": [],
   "source": [
    "# Basic Libraries\n",
    "import numpy as np\n",
    "import pandas as pd\n",
    "import seaborn as sb\n",
    "import matplotlib.pyplot as plt # we only need pyplot\n",
    "sb.set() # set the default Seaborn style for graphics"
   ]
  },
  {
   "cell_type": "code",
   "execution_count": 2,
   "id": "tired-vault",
   "metadata": {},
   "outputs": [
    {
     "data": {
      "text/html": [
       "<div>\n",
       "<style scoped>\n",
       "    .dataframe tbody tr th:only-of-type {\n",
       "        vertical-align: middle;\n",
       "    }\n",
       "\n",
       "    .dataframe tbody tr th {\n",
       "        vertical-align: top;\n",
       "    }\n",
       "\n",
       "    .dataframe thead th {\n",
       "        text-align: right;\n",
       "    }\n",
       "</style>\n",
       "<table border=\"1\" class=\"dataframe\">\n",
       "  <thead>\n",
       "    <tr style=\"text-align: right;\">\n",
       "      <th></th>\n",
       "      <th>id</th>\n",
       "      <th>age</th>\n",
       "      <th>gender</th>\n",
       "      <th>height</th>\n",
       "      <th>weight</th>\n",
       "      <th>ap_hi</th>\n",
       "      <th>ap_lo</th>\n",
       "      <th>cholesterol</th>\n",
       "      <th>gluc</th>\n",
       "      <th>smoke</th>\n",
       "      <th>alco</th>\n",
       "      <th>active</th>\n",
       "      <th>cardio</th>\n",
       "    </tr>\n",
       "  </thead>\n",
       "  <tbody>\n",
       "    <tr>\n",
       "      <th>0</th>\n",
       "      <td>0</td>\n",
       "      <td>18393</td>\n",
       "      <td>2</td>\n",
       "      <td>168</td>\n",
       "      <td>62.0</td>\n",
       "      <td>110</td>\n",
       "      <td>80</td>\n",
       "      <td>1</td>\n",
       "      <td>1</td>\n",
       "      <td>0</td>\n",
       "      <td>0</td>\n",
       "      <td>1</td>\n",
       "      <td>0</td>\n",
       "    </tr>\n",
       "    <tr>\n",
       "      <th>1</th>\n",
       "      <td>1</td>\n",
       "      <td>20228</td>\n",
       "      <td>1</td>\n",
       "      <td>156</td>\n",
       "      <td>85.0</td>\n",
       "      <td>140</td>\n",
       "      <td>90</td>\n",
       "      <td>3</td>\n",
       "      <td>1</td>\n",
       "      <td>0</td>\n",
       "      <td>0</td>\n",
       "      <td>1</td>\n",
       "      <td>1</td>\n",
       "    </tr>\n",
       "    <tr>\n",
       "      <th>2</th>\n",
       "      <td>2</td>\n",
       "      <td>18857</td>\n",
       "      <td>1</td>\n",
       "      <td>165</td>\n",
       "      <td>64.0</td>\n",
       "      <td>130</td>\n",
       "      <td>70</td>\n",
       "      <td>3</td>\n",
       "      <td>1</td>\n",
       "      <td>0</td>\n",
       "      <td>0</td>\n",
       "      <td>0</td>\n",
       "      <td>1</td>\n",
       "    </tr>\n",
       "    <tr>\n",
       "      <th>3</th>\n",
       "      <td>3</td>\n",
       "      <td>17623</td>\n",
       "      <td>2</td>\n",
       "      <td>169</td>\n",
       "      <td>82.0</td>\n",
       "      <td>150</td>\n",
       "      <td>100</td>\n",
       "      <td>1</td>\n",
       "      <td>1</td>\n",
       "      <td>0</td>\n",
       "      <td>0</td>\n",
       "      <td>1</td>\n",
       "      <td>1</td>\n",
       "    </tr>\n",
       "    <tr>\n",
       "      <th>4</th>\n",
       "      <td>4</td>\n",
       "      <td>17474</td>\n",
       "      <td>1</td>\n",
       "      <td>156</td>\n",
       "      <td>56.0</td>\n",
       "      <td>100</td>\n",
       "      <td>60</td>\n",
       "      <td>1</td>\n",
       "      <td>1</td>\n",
       "      <td>0</td>\n",
       "      <td>0</td>\n",
       "      <td>0</td>\n",
       "      <td>0</td>\n",
       "    </tr>\n",
       "  </tbody>\n",
       "</table>\n",
       "</div>"
      ],
      "text/plain": [
       "   id    age  gender  height  weight  ap_hi  ap_lo  cholesterol  gluc  smoke  \\\n",
       "0   0  18393       2     168    62.0    110     80            1     1      0   \n",
       "1   1  20228       1     156    85.0    140     90            3     1      0   \n",
       "2   2  18857       1     165    64.0    130     70            3     1      0   \n",
       "3   3  17623       2     169    82.0    150    100            1     1      0   \n",
       "4   4  17474       1     156    56.0    100     60            1     1      0   \n",
       "\n",
       "   alco  active  cardio  \n",
       "0     0       1       0  \n",
       "1     0       1       1  \n",
       "2     0       0       1  \n",
       "3     0       1       1  \n",
       "4     0       0       0  "
      ]
     },
     "execution_count": 2,
     "metadata": {},
     "output_type": "execute_result"
    }
   ],
   "source": [
    "cardioData = pd.read_csv('cardio_train.csv', sep=\";\")\n",
    "cardioData.head()"
   ]
  },
  {
   "cell_type": "code",
   "execution_count": 3,
   "id": "egyptian-engine",
   "metadata": {},
   "outputs": [
    {
     "data": {
      "text/html": [
       "<div>\n",
       "<style scoped>\n",
       "    .dataframe tbody tr th:only-of-type {\n",
       "        vertical-align: middle;\n",
       "    }\n",
       "\n",
       "    .dataframe tbody tr th {\n",
       "        vertical-align: top;\n",
       "    }\n",
       "\n",
       "    .dataframe thead th {\n",
       "        text-align: right;\n",
       "    }\n",
       "</style>\n",
       "<table border=\"1\" class=\"dataframe\">\n",
       "  <thead>\n",
       "    <tr style=\"text-align: right;\">\n",
       "      <th></th>\n",
       "      <th>id</th>\n",
       "      <th>age</th>\n",
       "      <th>gender</th>\n",
       "      <th>height</th>\n",
       "      <th>weight</th>\n",
       "      <th>ap_hi</th>\n",
       "      <th>ap_lo</th>\n",
       "      <th>cholesterol</th>\n",
       "      <th>gluc</th>\n",
       "      <th>smoke</th>\n",
       "      <th>alco</th>\n",
       "      <th>active</th>\n",
       "      <th>cardio</th>\n",
       "    </tr>\n",
       "  </thead>\n",
       "  <tbody>\n",
       "    <tr>\n",
       "      <th>0</th>\n",
       "      <td>0</td>\n",
       "      <td>18393</td>\n",
       "      <td>2</td>\n",
       "      <td>168</td>\n",
       "      <td>62.0</td>\n",
       "      <td>110</td>\n",
       "      <td>80</td>\n",
       "      <td>1</td>\n",
       "      <td>1</td>\n",
       "      <td>0</td>\n",
       "      <td>0</td>\n",
       "      <td>1</td>\n",
       "      <td>0</td>\n",
       "    </tr>\n",
       "    <tr>\n",
       "      <th>1</th>\n",
       "      <td>1</td>\n",
       "      <td>20228</td>\n",
       "      <td>1</td>\n",
       "      <td>156</td>\n",
       "      <td>85.0</td>\n",
       "      <td>140</td>\n",
       "      <td>90</td>\n",
       "      <td>3</td>\n",
       "      <td>1</td>\n",
       "      <td>0</td>\n",
       "      <td>0</td>\n",
       "      <td>1</td>\n",
       "      <td>1</td>\n",
       "    </tr>\n",
       "    <tr>\n",
       "      <th>2</th>\n",
       "      <td>2</td>\n",
       "      <td>18857</td>\n",
       "      <td>1</td>\n",
       "      <td>165</td>\n",
       "      <td>64.0</td>\n",
       "      <td>130</td>\n",
       "      <td>70</td>\n",
       "      <td>3</td>\n",
       "      <td>1</td>\n",
       "      <td>0</td>\n",
       "      <td>0</td>\n",
       "      <td>0</td>\n",
       "      <td>1</td>\n",
       "    </tr>\n",
       "    <tr>\n",
       "      <th>3</th>\n",
       "      <td>3</td>\n",
       "      <td>17623</td>\n",
       "      <td>2</td>\n",
       "      <td>169</td>\n",
       "      <td>82.0</td>\n",
       "      <td>150</td>\n",
       "      <td>100</td>\n",
       "      <td>1</td>\n",
       "      <td>1</td>\n",
       "      <td>0</td>\n",
       "      <td>0</td>\n",
       "      <td>1</td>\n",
       "      <td>1</td>\n",
       "    </tr>\n",
       "    <tr>\n",
       "      <th>4</th>\n",
       "      <td>4</td>\n",
       "      <td>17474</td>\n",
       "      <td>1</td>\n",
       "      <td>156</td>\n",
       "      <td>56.0</td>\n",
       "      <td>100</td>\n",
       "      <td>60</td>\n",
       "      <td>1</td>\n",
       "      <td>1</td>\n",
       "      <td>0</td>\n",
       "      <td>0</td>\n",
       "      <td>0</td>\n",
       "      <td>0</td>\n",
       "    </tr>\n",
       "    <tr>\n",
       "      <th>...</th>\n",
       "      <td>...</td>\n",
       "      <td>...</td>\n",
       "      <td>...</td>\n",
       "      <td>...</td>\n",
       "      <td>...</td>\n",
       "      <td>...</td>\n",
       "      <td>...</td>\n",
       "      <td>...</td>\n",
       "      <td>...</td>\n",
       "      <td>...</td>\n",
       "      <td>...</td>\n",
       "      <td>...</td>\n",
       "      <td>...</td>\n",
       "    </tr>\n",
       "    <tr>\n",
       "      <th>69995</th>\n",
       "      <td>99993</td>\n",
       "      <td>19240</td>\n",
       "      <td>2</td>\n",
       "      <td>168</td>\n",
       "      <td>76.0</td>\n",
       "      <td>120</td>\n",
       "      <td>80</td>\n",
       "      <td>1</td>\n",
       "      <td>1</td>\n",
       "      <td>1</td>\n",
       "      <td>0</td>\n",
       "      <td>1</td>\n",
       "      <td>0</td>\n",
       "    </tr>\n",
       "    <tr>\n",
       "      <th>69996</th>\n",
       "      <td>99995</td>\n",
       "      <td>22601</td>\n",
       "      <td>1</td>\n",
       "      <td>158</td>\n",
       "      <td>126.0</td>\n",
       "      <td>140</td>\n",
       "      <td>90</td>\n",
       "      <td>2</td>\n",
       "      <td>2</td>\n",
       "      <td>0</td>\n",
       "      <td>0</td>\n",
       "      <td>1</td>\n",
       "      <td>1</td>\n",
       "    </tr>\n",
       "    <tr>\n",
       "      <th>69997</th>\n",
       "      <td>99996</td>\n",
       "      <td>19066</td>\n",
       "      <td>2</td>\n",
       "      <td>183</td>\n",
       "      <td>105.0</td>\n",
       "      <td>180</td>\n",
       "      <td>90</td>\n",
       "      <td>3</td>\n",
       "      <td>1</td>\n",
       "      <td>0</td>\n",
       "      <td>1</td>\n",
       "      <td>0</td>\n",
       "      <td>1</td>\n",
       "    </tr>\n",
       "    <tr>\n",
       "      <th>69998</th>\n",
       "      <td>99998</td>\n",
       "      <td>22431</td>\n",
       "      <td>1</td>\n",
       "      <td>163</td>\n",
       "      <td>72.0</td>\n",
       "      <td>135</td>\n",
       "      <td>80</td>\n",
       "      <td>1</td>\n",
       "      <td>2</td>\n",
       "      <td>0</td>\n",
       "      <td>0</td>\n",
       "      <td>0</td>\n",
       "      <td>1</td>\n",
       "    </tr>\n",
       "    <tr>\n",
       "      <th>69999</th>\n",
       "      <td>99999</td>\n",
       "      <td>20540</td>\n",
       "      <td>1</td>\n",
       "      <td>170</td>\n",
       "      <td>72.0</td>\n",
       "      <td>120</td>\n",
       "      <td>80</td>\n",
       "      <td>2</td>\n",
       "      <td>1</td>\n",
       "      <td>0</td>\n",
       "      <td>0</td>\n",
       "      <td>1</td>\n",
       "      <td>0</td>\n",
       "    </tr>\n",
       "  </tbody>\n",
       "</table>\n",
       "<p>70000 rows × 13 columns</p>\n",
       "</div>"
      ],
      "text/plain": [
       "          id    age  gender  height  weight  ap_hi  ap_lo  cholesterol  gluc  \\\n",
       "0          0  18393       2     168    62.0    110     80            1     1   \n",
       "1          1  20228       1     156    85.0    140     90            3     1   \n",
       "2          2  18857       1     165    64.0    130     70            3     1   \n",
       "3          3  17623       2     169    82.0    150    100            1     1   \n",
       "4          4  17474       1     156    56.0    100     60            1     1   \n",
       "...      ...    ...     ...     ...     ...    ...    ...          ...   ...   \n",
       "69995  99993  19240       2     168    76.0    120     80            1     1   \n",
       "69996  99995  22601       1     158   126.0    140     90            2     2   \n",
       "69997  99996  19066       2     183   105.0    180     90            3     1   \n",
       "69998  99998  22431       1     163    72.0    135     80            1     2   \n",
       "69999  99999  20540       1     170    72.0    120     80            2     1   \n",
       "\n",
       "       smoke  alco  active  cardio  \n",
       "0          0     0       1       0  \n",
       "1          0     0       1       1  \n",
       "2          0     0       0       1  \n",
       "3          0     0       1       1  \n",
       "4          0     0       0       0  \n",
       "...      ...   ...     ...     ...  \n",
       "69995      1     0       1       0  \n",
       "69996      0     0       1       1  \n",
       "69997      0     1       0       1  \n",
       "69998      0     0       0       1  \n",
       "69999      0     0       1       0  \n",
       "\n",
       "[70000 rows x 13 columns]"
      ]
     },
     "execution_count": 3,
     "metadata": {},
     "output_type": "execute_result"
    }
   ],
   "source": [
    "cardioData"
   ]
  },
  {
   "cell_type": "code",
   "execution_count": 4,
   "id": "welsh-drain",
   "metadata": {},
   "outputs": [],
   "source": [
    "X = pd.DataFrame(cardioData[[  \"height\",\"weight\",\"ap_hi\",\"ap_lo\",\"cholesterol\", \"gluc\",\"smoke\",\"alco\"]])\n",
    "y = pd.DataFrame(cardioData[\"cardio\"])"
   ]
  },
  {
   "cell_type": "code",
   "execution_count": 5,
   "id": "pleased-travel",
   "metadata": {},
   "outputs": [
    {
     "name": "stdout",
     "output_type": "stream",
     "text": [
      "Train Set : (52500, 1) (52500, 8)\n",
      "Test Set  : (17500, 1) (17500, 8)\n"
     ]
    }
   ],
   "source": [
    "# Import train_test_split from sklearn\n",
    "from sklearn.model_selection import train_test_split\n",
    "\n",
    "# Split the Dataset into Train and Test\n",
    "X_train, X_test, y_train, y_test = train_test_split(X, y, test_size = 0.25)\n",
    "\n",
    "# Check the sample sizes\n",
    "print(\"Train Set :\", y_train.shape, X_train.shape)\n",
    "print(\"Test Set  :\", y_test.shape, X_test.shape)"
   ]
  },
  {
   "cell_type": "code",
   "execution_count": 6,
   "id": "alternate-adaptation",
   "metadata": {},
   "outputs": [
    {
     "data": {
      "text/plain": [
       "<matplotlib.axes._subplots.AxesSubplot at 0x1a5f78d0490>"
      ]
     },
     "execution_count": 6,
     "metadata": {},
     "output_type": "execute_result"
    },
    {
     "data": {
      "image/png": "[encoded data removed]",
      "text/plain": [
       "<Figure size 864x576 with 2 Axes>"
      ]
     },
     "metadata": {},
     "output_type": "display_data"
    }
   ],
   "source": [
    "# Correlation between Response and the Predictors\n",
    "trainDF = pd.concat([y_train, X_train], axis = 1).reindex(y_train.index)\n",
    "\n",
    "f = plt.figure(figsize=(12, 8))\n",
    "sb.heatmap(trainDF.corr(), vmin = -1, vmax = 1, annot = True, fmt = \".2f\")"
   ]
  },
  {
   "cell_type": "markdown",
   "id": "agricultural-clothing",
   "metadata": {},
   "source": [
    "from sklearn import svm\n",
    "clf = svm.SVC()"
   ]
  },
  {
   "cell_type": "markdown",
   "id": "union-fundamental",
   "metadata": {},
   "source": [
    "clf.fit(X_train, y_train.values.ravel())"
   ]
  },
  {
   "cell_type": "markdown",
   "id": "signed-timeline",
   "metadata": {},
   "source": [
    "y_train_pred = clf.predict(X_train)"
   ]
  },
  {
   "cell_type": "code",
   "execution_count": 7,
   "id": "hourly-charlotte",
   "metadata": {},
   "outputs": [],
   "source": [
    "from sklearn import metrics"
   ]
  },
  {
   "cell_type": "markdown",
   "id": "canadian-benefit",
   "metadata": {},
   "source": [
    "print(\"Accuracy:\",metrics.accuracy_score(y_train, y_train_pred))\n",
    "print(\"Precision:\",metrics.precision_score(y_train, y_train_pred))\n",
    "print(\"Recall:\",metrics.recall_score(y_train, y_train_pred))"
   ]
  },
  {
   "cell_type": "markdown",
   "id": "boxed-growing",
   "metadata": {},
   "source": [
    "y_test_pred = clf.predict(X_test)"
   ]
  },
  {
   "cell_type": "markdown",
   "id": "orange-azerbaijan",
   "metadata": {},
   "source": [
    "print(\"Accuracy:\",metrics.accuracy_score(y_test, y_test_pred))\n",
    "print(\"Precision:\",metrics.precision_score(y_test, y_test_pred))\n",
    "print(\"Recall:\",metrics.recall_score(y_test, y_test_pred))"
   ]
  },
  {
   "cell_type": "code",
   "execution_count": 8,
   "id": "interesting-booth",
   "metadata": {},
   "outputs": [],
   "source": [
    "from sklearn.ensemble import RandomForestClassifier"
   ]
  },
  {
   "cell_type": "code",
   "execution_count": 9,
   "id": "italian-holmes",
   "metadata": {},
   "outputs": [],
   "source": [
    "clf2 = RandomForestClassifier(n_estimators = 200)"
   ]
  },
  {
   "cell_type": "code",
   "execution_count": 10,
   "id": "dried-smile",
   "metadata": {},
   "outputs": [
    {
     "data": {
      "text/plain": [
       "RandomForestClassifier(n_estimators=200)"
      ]
     },
     "execution_count": 10,
     "metadata": {},
     "output_type": "execute_result"
    }
   ],
   "source": [
    "clf2.fit(X_train,y_train.values.ravel())"
   ]
  },
  {
   "cell_type": "code",
   "execution_count": 11,
   "id": "reported-perfume",
   "metadata": {},
   "outputs": [],
   "source": [
    "y_train_predforest=clf2.predict(X_train)"
   ]
  },
  {
   "cell_type": "code",
   "execution_count": 12,
   "id": "demanding-arrangement",
   "metadata": {},
   "outputs": [
    {
     "name": "stdout",
     "output_type": "stream",
     "text": [
      "Accuracy: 0.8806857142857143\n",
      "Precision: 0.9299015180836882\n",
      "Recall: 0.8235137296720875\n"
     ]
    }
   ],
   "source": [
    "print(\"Accuracy:\",metrics.accuracy_score(y_train, y_train_predforest))\n",
    "print(\"Precision:\",metrics.precision_score(y_train, y_train_predforest))\n",
    "print(\"Recall:\",metrics.recall_score(y_train, y_train_predforest))"
   ]
  },
  {
   "cell_type": "code",
   "execution_count": 13,
   "id": "material-delay",
   "metadata": {},
   "outputs": [],
   "source": [
    "y_test_predforest = clf2.predict(X_test)"
   ]
  },
  {
   "cell_type": "code",
   "execution_count": 14,
   "id": "matched-oasis",
   "metadata": {},
   "outputs": [
    {
     "name": "stdout",
     "output_type": "stream",
     "text": [
      "Accuracy: 0.6896\n",
      "Precision: 0.7069703069954706\n",
      "Recall: 0.6442329740885118\n"
     ]
    }
   ],
   "source": [
    "print(\"Accuracy:\",metrics.accuracy_score(y_test, y_test_predforest))\n",
    "print(\"Precision:\",metrics.precision_score(y_test, y_test_predforest))\n",
    "print(\"Recall:\",metrics.recall_score(y_test, y_test_predforest))"
   ]
  },
  {
   "cell_type": "code",
   "execution_count": 15,
   "id": "vanilla-attempt",
   "metadata": {},
   "outputs": [
    {
     "data": {
      "text/plain": [
       "0.6896"
      ]
     },
     "execution_count": 15,
     "metadata": {},
     "output_type": "execute_result"
    }
   ],
   "source": [
    "clf2.score(X_test, y_test)"
   ]
  },
  {
   "cell_type": "markdown",
   "id": "based-forty",
   "metadata": {},
   "source": [
    "from scipy import stats\n",
    "from scipy.stats import zscore\n",
    "z_scores = stats.zscore(cardioData)"
   ]
  },
  {
   "cell_type": "markdown",
   "id": "absolute-personal",
   "metadata": {},
   "source": [
    "abs_z_scores = np.abs(z_scores)\n",
    "filtered_entries = (abs_z_scores < 3).all(axis=1)\n",
    "filtered_cardioData = cardioData[filtered_entries]"
   ]
  },
  {
   "cell_type": "markdown",
   "id": "chief-ceiling",
   "metadata": {},
   "source": [
    "filtered_X = pd.DataFrame(filtered_cardioData[[\"age\", \"gender\", \"height\",\"weight\",\"ap_hi\",\"ap_lo\",\"cholesterol\", \"gluc\",\"smoke\",\"alco\",\"active\"]])\n",
    "filtered_y = pd.DataFrame(filtered_cardioData[\"cardio\"])"
   ]
  },
  {
   "cell_type": "markdown",
   "id": "front-cover",
   "metadata": {},
   "source": [
    "X_train, X_test, y_train, y_test = train_test_split(filtered_X, filtered_y, test_size = 0.25)"
   ]
  },
  {
   "cell_type": "markdown",
   "id": "third-chicken",
   "metadata": {},
   "source": [
    "print(\"Train Set :\", y_train.shape, X_train.shape)\n",
    "print(\"Test Set  :\", y_test.shape, X_test.shape)"
   ]
  },
  {
   "cell_type": "code",
   "execution_count": 16,
   "id": "wanted-egyptian",
   "metadata": {},
   "outputs": [],
   "source": [
    "clf3 = RandomForestClassifier(n_estimators = 100)\n",
    "clf3.fit(X_train,y_train.values.ravel())\n",
    "y_train_predforest=clf3.predict(X_train)"
   ]
  },
  {
   "cell_type": "code",
   "execution_count": 17,
   "id": "interested-nursing",
   "metadata": {},
   "outputs": [
    {
     "name": "stdout",
     "output_type": "stream",
     "text": [
      "Accuracy: 0.8806285714285714\n",
      "Precision: 0.9301144676822446\n",
      "Recall: 0.8231709639334273\n"
     ]
    }
   ],
   "source": [
    "print(\"Accuracy:\",metrics.accuracy_score(y_train, y_train_predforest))\n",
    "print(\"Precision:\",metrics.precision_score(y_train, y_train_predforest))\n",
    "print(\"Recall:\",metrics.recall_score(y_train, y_train_predforest))"
   ]
  },
  {
   "cell_type": "code",
   "execution_count": 18,
   "id": "after-civilization",
   "metadata": {},
   "outputs": [],
   "source": [
    "y_test_predforest = clf3.predict(X_test)"
   ]
  },
  {
   "cell_type": "code",
   "execution_count": 19,
   "id": "raising-victoria",
   "metadata": {},
   "outputs": [
    {
     "name": "stdout",
     "output_type": "stream",
     "text": [
      "Accuracy: 0.6927428571428571\n",
      "Precision: 0.710509754562618\n",
      "Recall: 0.6472139417564778\n"
     ]
    }
   ],
   "source": [
    "print(\"Accuracy:\",metrics.accuracy_score(y_test, y_test_predforest))\n",
    "print(\"Precision:\",metrics.precision_score(y_test, y_test_predforest))\n",
    "print(\"Recall:\",metrics.recall_score(y_test, y_test_predforest))"
   ]
  },
  {
   "cell_type": "code",
   "execution_count": 20,
   "id": "sexual-crawford",
   "metadata": {},
   "outputs": [
    {
     "data": {
      "text/plain": [
       "0.6927428571428571"
      ]
     },
     "execution_count": 20,
     "metadata": {},
     "output_type": "execute_result"
    }
   ],
   "source": [
    "clf3.score(X_test, y_test)"
   ]
  },
  {
   "cell_type": "code",
   "execution_count": 21,
   "id": "impressed-movie",
   "metadata": {},
   "outputs": [],
   "source": [
    "from sklearn.linear_model import LogisticRegression"
   ]
  },
  {
   "cell_type": "code",
   "execution_count": 22,
   "id": "referenced-reality",
   "metadata": {},
   "outputs": [],
   "source": [
    "clf4 = LogisticRegression(random_state=0, max_iter=200)"
   ]
  },
  {
   "cell_type": "code",
   "execution_count": 23,
   "id": "structured-chorus",
   "metadata": {},
   "outputs": [
    {
     "name": "stderr",
     "output_type": "stream",
     "text": [
      "C:\\Users\\herma\\anaconda3\\lib\\site-packages\\sklearn\\linear_model\\_logistic.py:762: ConvergenceWarning: lbfgs failed to converge (status=1):\n",
      "STOP: TOTAL NO. of ITERATIONS REACHED LIMIT.\n",
      "\n",
      "Increase the number of iterations (max_iter) or scale the data as shown in:\n",
      "    https://scikit-learn.org/stable/modules/preprocessing.html\n",
      "Please also refer to the documentation for alternative solver options:\n",
      "    https://scikit-learn.org/stable/modules/linear_model.html#logistic-regression\n",
      "  n_iter_i = _check_optimize_result(\n"
     ]
    },
    {
     "data": {
      "text/plain": [
       "LogisticRegression(max_iter=200, random_state=0)"
      ]
     },
     "execution_count": 23,
     "metadata": {},
     "output_type": "execute_result"
    }
   ],
   "source": [
    "clf4.fit(X_train, y_train.values.ravel())"
   ]
  },
  {
   "cell_type": "code",
   "execution_count": 24,
   "id": "hybrid-tulsa",
   "metadata": {},
   "outputs": [],
   "source": [
    "y_test_logistic = clf4.predict(X_test)"
   ]
  },
  {
   "cell_type": "code",
   "execution_count": 25,
   "id": "sharp-snake",
   "metadata": {},
   "outputs": [
    {
     "name": "stdout",
     "output_type": "stream",
     "text": [
      "Accuracy: 0.7235428571428572\n",
      "Precision: 0.7596256684491979\n",
      "Recall: 0.6514560880531988\n"
     ]
    }
   ],
   "source": [
    "print(\"Accuracy:\",metrics.accuracy_score(y_test, y_test_logistic))\n",
    "print(\"Precision:\",metrics.precision_score(y_test, y_test_logistic))\n",
    "print(\"Recall:\",metrics.recall_score(y_test, y_test_logistic))"
   ]
  },
  {
   "cell_type": "code",
   "execution_count": 26,
   "id": "tracked-trick",
   "metadata": {},
   "outputs": [
    {
     "data": {
      "text/plain": [
       "0.6896"
      ]
     },
     "execution_count": 26,
     "metadata": {},
     "output_type": "execute_result"
    }
   ],
   "source": [
    "clf2.score(X_test, y_test)"
   ]
  },
  {
   "cell_type": "code",
   "execution_count": 27,
   "id": "hybrid-pregnancy",
   "metadata": {},
   "outputs": [
    {
     "data": {
      "text/plain": [
       "LogisticRegression(C=1e+40, max_iter=250, solver='newton-cg')"
      ]
     },
     "execution_count": 27,
     "metadata": {},
     "output_type": "execute_result"
    }
   ],
   "source": [
    "from sklearn.feature_selection import RFE\n",
    "from sklearn import linear_model\n",
    "from sklearn.linear_model import LogisticRegression\n",
    "rfe = linear_model.LogisticRegression(C=1e40, solver='newton-cg', max_iter=250)\n",
    "rfe.fit(X_train, y_train.values.ravel())\n"
   ]
  },
  {
   "cell_type": "code",
   "execution_count": 28,
   "id": "considered-interest",
   "metadata": {},
   "outputs": [],
   "source": [
    "y_test_logistic = rfe.predict(X_test)"
   ]
  },
  {
   "cell_type": "code",
   "execution_count": 29,
   "id": "optional-letters",
   "metadata": {},
   "outputs": [
    {
     "name": "stdout",
     "output_type": "stream",
     "text": [
      "Accuracy: 0.7254285714285714\n",
      "Precision: 0.7640555480652554\n",
      "Recall: 0.6497362990139877\n"
     ]
    }
   ],
   "source": [
    "print(\"Accuracy:\",metrics.accuracy_score(y_test, y_test_logistic))\n",
    "print(\"Precision:\",metrics.precision_score(y_test, y_test_logistic))\n",
    "print(\"Recall:\",metrics.recall_score(y_test, y_test_logistic))"
   ]
  },
  {
   "cell_type": "code",
   "execution_count": null,
   "id": "dietary-province",
   "metadata": {},
   "outputs": [],
   "source": []
  },
  {
   "cell_type": "code",
   "execution_count": 30,
   "id": "realistic-balance",
   "metadata": {},
   "outputs": [],
   "source": [
    "X = pd.DataFrame(cardioData[[\"age\", \"gender\", \"height\",\"weight\",\"ap_hi\",\"ap_lo\",\"cholesterol\", \"gluc\",\"smoke\",\"alco\",\"active\"]])\n",
    "y = pd.DataFrame(cardioData[\"cardio\"])\n",
    "# Import train_test_split from sklearn\n",
    "from sklearn.model_selection import train_test_split\n",
    "\n",
    "# Split the Dataset into Train and Test\n",
    "X_train, X_test, y_train, y_test = train_test_split(X, y, test_size = 0.25)\n"
   ]
  },
  {
   "cell_type": "code",
   "execution_count": 31,
   "id": "typical-moral",
   "metadata": {},
   "outputs": [
    {
     "name": "stdout",
     "output_type": "stream",
     "text": [
      "Train Set : (52500, 1) (52500, 11)\n",
      "Test Set  : (17500, 1) (17500, 11)\n"
     ]
    }
   ],
   "source": [
    "X_trainna = pd.DataFrame(X_train[[ \"gender\", \"height\",\"weight\",\"ap_hi\",\"ap_lo\",\"cholesterol\", \"gluc\",\"smoke\",\"alco\",\"active\"]])\n",
    "X_testna = pd.DataFrame(X_test[[ \"gender\", \"height\",\"weight\",\"ap_hi\",\"ap_lo\",\"cholesterol\", \"gluc\",\"smoke\",\"alco\",\"active\"]])\n",
    "\n",
    "# Check the sample sizes\n",
    "print(\"Train Set :\", y_train.shape, X_train.shape)\n",
    "print(\"Test Set  :\", y_test.shape, X_test.shape)"
   ]
  },
  {
   "cell_type": "code",
   "execution_count": 32,
   "id": "tight-politics",
   "metadata": {},
   "outputs": [
    {
     "name": "stdout",
     "output_type": "stream",
     "text": [
      "Accuracy: 0.7218857142857142\n",
      "Precision: 0.7619936034115139\n",
      "Recall: 0.6498465734742584\n"
     ]
    }
   ],
   "source": [
    "rfe2 = linear_model.LogisticRegression(C=1e40, solver='newton-cg', max_iter=250)\n",
    "rfe2.fit(X_trainna, y_train.values.ravel())\n",
    "y_test_logisticna = rfe2.predict(X_testna)\n",
    "print(\"Accuracy:\",metrics.accuracy_score(y_test, y_test_logisticna))\n",
    "print(\"Precision:\",metrics.precision_score(y_test, y_test_logisticna))\n",
    "print(\"Recall:\",metrics.recall_score(y_test, y_test_logisticna))"
   ]
  },
  {
   "cell_type": "code",
   "execution_count": 33,
   "id": "strong-wrong",
   "metadata": {},
   "outputs": [
    {
     "name": "stderr",
     "output_type": "stream",
     "text": [
      "C:\\Users\\herma\\AppData\\Roaming\\Python\\Python38\\site-packages\\scipy\\optimize\\linesearch.py:466: LineSearchWarning: The line search algorithm did not converge\n",
      "  warn('The line search algorithm did not converge', LineSearchWarning)\n",
      "C:\\Users\\herma\\AppData\\Roaming\\Python\\Python38\\site-packages\\scipy\\optimize\\linesearch.py:314: LineSearchWarning: The line search algorithm did not converge\n",
      "  warn('The line search algorithm did not converge', LineSearchWarning)\n",
      "C:\\Users\\herma\\AppData\\Roaming\\Python\\Python38\\site-packages\\scipy\\optimize\\linesearch.py:466: LineSearchWarning: The line search algorithm did not converge\n",
      "  warn('The line search algorithm did not converge', LineSearchWarning)\n",
      "C:\\Users\\herma\\AppData\\Roaming\\Python\\Python38\\site-packages\\scipy\\optimize\\linesearch.py:314: LineSearchWarning: The line search algorithm did not converge\n",
      "  warn('The line search algorithm did not converge', LineSearchWarning)\n",
      "C:\\Users\\herma\\AppData\\Roaming\\Python\\Python38\\site-packages\\scipy\\optimize\\linesearch.py:466: LineSearchWarning: The line search algorithm did not converge\n",
      "  warn('The line search algorithm did not converge', LineSearchWarning)\n",
      "C:\\Users\\herma\\AppData\\Roaming\\Python\\Python38\\site-packages\\scipy\\optimize\\linesearch.py:314: LineSearchWarning: The line search algorithm did not converge\n",
      "  warn('The line search algorithm did not converge', LineSearchWarning)\n",
      "C:\\Users\\herma\\AppData\\Roaming\\Python\\Python38\\site-packages\\scipy\\optimize\\linesearch.py:466: LineSearchWarning: The line search algorithm did not converge\n",
      "  warn('The line search algorithm did not converge', LineSearchWarning)\n",
      "C:\\Users\\herma\\AppData\\Roaming\\Python\\Python38\\site-packages\\scipy\\optimize\\linesearch.py:314: LineSearchWarning: The line search algorithm did not converge\n",
      "  warn('The line search algorithm did not converge', LineSearchWarning)\n",
      "C:\\Users\\herma\\AppData\\Roaming\\Python\\Python38\\site-packages\\scipy\\optimize\\linesearch.py:466: LineSearchWarning: The line search algorithm did not converge\n",
      "  warn('The line search algorithm did not converge', LineSearchWarning)\n",
      "C:\\Users\\herma\\AppData\\Roaming\\Python\\Python38\\site-packages\\scipy\\optimize\\linesearch.py:314: LineSearchWarning: The line search algorithm did not converge\n",
      "  warn('The line search algorithm did not converge', LineSearchWarning)\n",
      "C:\\Users\\herma\\AppData\\Roaming\\Python\\Python38\\site-packages\\scipy\\optimize\\linesearch.py:466: LineSearchWarning: The line search algorithm did not converge\n",
      "  warn('The line search algorithm did not converge', LineSearchWarning)\n",
      "C:\\Users\\herma\\AppData\\Roaming\\Python\\Python38\\site-packages\\scipy\\optimize\\linesearch.py:314: LineSearchWarning: The line search algorithm did not converge\n",
      "  warn('The line search algorithm did not converge', LineSearchWarning)\n",
      "C:\\Users\\herma\\AppData\\Roaming\\Python\\Python38\\site-packages\\scipy\\optimize\\linesearch.py:466: LineSearchWarning: The line search algorithm did not converge\n",
      "  warn('The line search algorithm did not converge', LineSearchWarning)\n",
      "C:\\Users\\herma\\AppData\\Roaming\\Python\\Python38\\site-packages\\scipy\\optimize\\linesearch.py:314: LineSearchWarning: The line search algorithm did not converge\n",
      "  warn('The line search algorithm did not converge', LineSearchWarning)\n"
     ]
    },
    {
     "name": "stdout",
     "output_type": "stream",
     "text": [
      "Accuracy: 0.7210285714285715\n",
      "Precision: 0.7432012914441823\n",
      "Recall: 0.6801909307875895\n"
     ]
    },
    {
     "name": "stderr",
     "output_type": "stream",
     "text": [
      "C:\\Users\\herma\\AppData\\Roaming\\Python\\Python38\\site-packages\\scipy\\optimize\\linesearch.py:426: LineSearchWarning: Rounding errors prevent the line search from converging\n",
      "  warn(msg, LineSearchWarning)\n",
      "C:\\Users\\herma\\AppData\\Roaming\\Python\\Python38\\site-packages\\scipy\\optimize\\linesearch.py:314: LineSearchWarning: The line search algorithm did not converge\n",
      "  warn('The line search algorithm did not converge', LineSearchWarning)\n",
      "C:\\Users\\herma\\anaconda3\\lib\\site-packages\\sklearn\\utils\\optimize.py:204: UserWarning: Line Search failed\n",
      "  warnings.warn('Line Search failed')\n"
     ]
    }
   ],
   "source": [
    "rfe = linear_model.LogisticRegression(C=1e40, solver='newton-cg', max_iter=250)\n",
    "rfe.fit(X_train, y_train.values.ravel())\n",
    "y_test_logistic = rfe.predict(X_test)\n",
    "print(\"Accuracy:\",metrics.accuracy_score(y_test, y_test_logistic))\n",
    "print(\"Precision:\",metrics.precision_score(y_test, y_test_logistic))\n",
    "print(\"Recall:\",metrics.recall_score(y_test, y_test_logistic))"
   ]
  },
  {
   "cell_type": "code",
   "execution_count": 34,
   "id": "framed-thing",
   "metadata": {},
   "outputs": [
    {
     "name": "stdout",
     "output_type": "stream",
     "text": [
      "Accuracy: 0.7221714285714286\n",
      "Precision: 0.7623617219778756\n",
      "Recall: 0.6500738720309126\n"
     ]
    }
   ],
   "source": [
    "X_trainnlo = pd.DataFrame(X_train[[ \"gender\", \"height\",\"weight\",\"ap_hi\",\"cholesterol\", \"gluc\",\"smoke\",\"alco\"]])\n",
    "X_testnnlo = pd.DataFrame(X_test[[ \"gender\", \"height\",\"weight\",\"ap_hi\",\"cholesterol\", \"gluc\",\"smoke\",\"alco\"]])\n",
    "\n",
    "# Check the sample sizes\n",
    "rfe2 = linear_model.LogisticRegression(C=1e40, solver='newton-cg', max_iter=250)\n",
    "rfe2.fit(X_trainnlo, y_train.values.ravel())\n",
    "y_test_logisticnnlo = rfe2.predict(X_testnnlo)\n",
    "print(\"Accuracy:\",metrics.accuracy_score(y_test, y_test_logisticnnlo))\n",
    "print(\"Precision:\",metrics.precision_score(y_test, y_test_logisticnnlo))\n",
    "print(\"Recall:\",metrics.recall_score(y_test, y_test_logisticnnlo))"
   ]
  },
  {
   "cell_type": "code",
   "execution_count": 35,
   "id": "boolean-trial",
   "metadata": {},
   "outputs": [
    {
     "name": "stderr",
     "output_type": "stream",
     "text": [
      "C:\\Users\\herma\\AppData\\Roaming\\Python\\Python38\\site-packages\\scipy\\optimize\\linesearch.py:466: LineSearchWarning: The line search algorithm did not converge\n",
      "  warn('The line search algorithm did not converge', LineSearchWarning)\n",
      "C:\\Users\\herma\\AppData\\Roaming\\Python\\Python38\\site-packages\\scipy\\optimize\\linesearch.py:314: LineSearchWarning: The line search algorithm did not converge\n",
      "  warn('The line search algorithm did not converge', LineSearchWarning)\n",
      "C:\\Users\\herma\\AppData\\Roaming\\Python\\Python38\\site-packages\\scipy\\optimize\\linesearch.py:466: LineSearchWarning: The line search algorithm did not converge\n",
      "  warn('The line search algorithm did not converge', LineSearchWarning)\n",
      "C:\\Users\\herma\\AppData\\Roaming\\Python\\Python38\\site-packages\\scipy\\optimize\\linesearch.py:314: LineSearchWarning: The line search algorithm did not converge\n",
      "  warn('The line search algorithm did not converge', LineSearchWarning)\n",
      "C:\\Users\\herma\\AppData\\Roaming\\Python\\Python38\\site-packages\\scipy\\optimize\\linesearch.py:466: LineSearchWarning: The line search algorithm did not converge\n",
      "  warn('The line search algorithm did not converge', LineSearchWarning)\n",
      "C:\\Users\\herma\\AppData\\Roaming\\Python\\Python38\\site-packages\\scipy\\optimize\\linesearch.py:314: LineSearchWarning: The line search algorithm did not converge\n",
      "  warn('The line search algorithm did not converge', LineSearchWarning)\n",
      "C:\\Users\\herma\\AppData\\Roaming\\Python\\Python38\\site-packages\\scipy\\optimize\\linesearch.py:466: LineSearchWarning: The line search algorithm did not converge\n",
      "  warn('The line search algorithm did not converge', LineSearchWarning)\n",
      "C:\\Users\\herma\\AppData\\Roaming\\Python\\Python38\\site-packages\\scipy\\optimize\\linesearch.py:314: LineSearchWarning: The line search algorithm did not converge\n",
      "  warn('The line search algorithm did not converge', LineSearchWarning)\n",
      "C:\\Users\\herma\\AppData\\Roaming\\Python\\Python38\\site-packages\\scipy\\optimize\\linesearch.py:466: LineSearchWarning: The line search algorithm did not converge\n",
      "  warn('The line search algorithm did not converge', LineSearchWarning)\n",
      "C:\\Users\\herma\\AppData\\Roaming\\Python\\Python38\\site-packages\\scipy\\optimize\\linesearch.py:314: LineSearchWarning: The line search algorithm did not converge\n",
      "  warn('The line search algorithm did not converge', LineSearchWarning)\n",
      "C:\\Users\\herma\\AppData\\Roaming\\Python\\Python38\\site-packages\\scipy\\optimize\\linesearch.py:466: LineSearchWarning: The line search algorithm did not converge\n",
      "  warn('The line search algorithm did not converge', LineSearchWarning)\n",
      "C:\\Users\\herma\\AppData\\Roaming\\Python\\Python38\\site-packages\\scipy\\optimize\\linesearch.py:314: LineSearchWarning: The line search algorithm did not converge\n",
      "  warn('The line search algorithm did not converge', LineSearchWarning)\n",
      "C:\\Users\\herma\\AppData\\Roaming\\Python\\Python38\\site-packages\\scipy\\optimize\\linesearch.py:466: LineSearchWarning: The line search algorithm did not converge\n",
      "  warn('The line search algorithm did not converge', LineSearchWarning)\n",
      "C:\\Users\\herma\\AppData\\Roaming\\Python\\Python38\\site-packages\\scipy\\optimize\\linesearch.py:314: LineSearchWarning: The line search algorithm did not converge\n",
      "  warn('The line search algorithm did not converge', LineSearchWarning)\n",
      "C:\\Users\\herma\\AppData\\Roaming\\Python\\Python38\\site-packages\\scipy\\optimize\\linesearch.py:466: LineSearchWarning: The line search algorithm did not converge\n",
      "  warn('The line search algorithm did not converge', LineSearchWarning)\n",
      "C:\\Users\\herma\\AppData\\Roaming\\Python\\Python38\\site-packages\\scipy\\optimize\\linesearch.py:314: LineSearchWarning: The line search algorithm did not converge\n",
      "  warn('The line search algorithm did not converge', LineSearchWarning)\n",
      "C:\\Users\\herma\\AppData\\Roaming\\Python\\Python38\\site-packages\\scipy\\optimize\\linesearch.py:466: LineSearchWarning: The line search algorithm did not converge\n",
      "  warn('The line search algorithm did not converge', LineSearchWarning)\n",
      "C:\\Users\\herma\\AppData\\Roaming\\Python\\Python38\\site-packages\\scipy\\optimize\\linesearch.py:314: LineSearchWarning: The line search algorithm did not converge\n",
      "  warn('The line search algorithm did not converge', LineSearchWarning)\n",
      "C:\\Users\\herma\\AppData\\Roaming\\Python\\Python38\\site-packages\\scipy\\optimize\\linesearch.py:466: LineSearchWarning: The line search algorithm did not converge\n",
      "  warn('The line search algorithm did not converge', LineSearchWarning)\n",
      "C:\\Users\\herma\\AppData\\Roaming\\Python\\Python38\\site-packages\\scipy\\optimize\\linesearch.py:314: LineSearchWarning: The line search algorithm did not converge\n",
      "  warn('The line search algorithm did not converge', LineSearchWarning)\n"
     ]
    },
    {
     "name": "stdout",
     "output_type": "stream",
     "text": [
      "Accuracy: 0.7208571428571429\n",
      "Precision: 0.7431055900621119\n",
      "Recall: 0.6798499829526082\n"
     ]
    },
    {
     "name": "stderr",
     "output_type": "stream",
     "text": [
      "C:\\Users\\herma\\AppData\\Roaming\\Python\\Python38\\site-packages\\scipy\\optimize\\linesearch.py:314: LineSearchWarning: The line search algorithm did not converge\n",
      "  warn('The line search algorithm did not converge', LineSearchWarning)\n",
      "C:\\Users\\herma\\anaconda3\\lib\\site-packages\\sklearn\\utils\\optimize.py:204: UserWarning: Line Search failed\n",
      "  warnings.warn('Line Search failed')\n"
     ]
    }
   ],
   "source": [
    "X_trainnlo = pd.DataFrame(X_train[[ \"age\",\"ap_lo\",\"gender\", \"height\",\"weight\",\"ap_hi\",\"cholesterol\", \"gluc\",\"smoke\",\"alco\",\"active\"]])\n",
    "X_testnnlo = pd.DataFrame(X_test[[\"age\", \"ap_lo\",\"gender\", \"height\",\"weight\",\"ap_hi\",\"cholesterol\", \"gluc\",\"smoke\",\"alco\",\"active\"]])\n",
    "\n",
    "# Check the sample sizes\n",
    "rfe2 = linear_model.LogisticRegression(C=1e40, solver='newton-cg', max_iter=250)\n",
    "rfe2.fit(X_trainnlo, y_train.values.ravel())\n",
    "y_test_logisticnnlo = rfe2.predict(X_testnnlo)\n",
    "print(\"Accuracy:\",metrics.accuracy_score(y_test, y_test_logisticnnlo))\n",
    "print(\"Precision:\",metrics.precision_score(y_test, y_test_logisticnnlo))\n",
    "print(\"Recall:\",metrics.recall_score(y_test, y_test_logisticnnlo))\n",
    "\n",
    "rfe = linear_model.LogisticRegression(C=1e40, solver='newton-cg', max_iter=250)\n",
    "rfe.fit(X_train, y_train.values.ravel())\n",
    "y_test_logistic = rfe.predict(X_test)\n",
    "print(\"Accuracy:\",metrics.accuracy_score(y_test, y_test_logistic))\n",
    "print(\"Precision:\",metrics.precision_score(y_test, y_test_logistic))\n",
    "print(\"Recall:\",metrics.recall_score(y_test, y_test_logistic))\n"
   ]
  },
  {
   "cell_type": "code",
   "execution_count": null,
   "id": "featured-emerald",
   "metadata": {},
   "outputs": [],
   "source": []
  }
 ],
 "metadata": {
  "kernelspec": {
   "display_name": "Python 3",
   "language": "python",
   "name": "python3"
  },
  "language_info": {
   "codemirror_mode": {
    "name": "ipython",
    "version": 3
   },
   "file_extension": ".py",
   "mimetype": "text/x-python",
   "name": "python",
   "nbconvert_exporter": "python",
   "pygments_lexer": "ipython3",
   "version": "3.8.5"
  }
 },
 "nbformat": 4,
 "nbformat_minor": 5
}
